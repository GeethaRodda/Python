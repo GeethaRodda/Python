{
 "cells": [
  {
   "cell_type": "markdown",
   "id": "ee149bb8",
   "metadata": {},
   "source": [
    "# Assignment-3"
   ]
  },
  {
   "cell_type": "markdown",
   "id": "78c49507",
   "metadata": {},
   "source": [
    "#### 1. Why are functions advantageous to have in your programs?\n",
    "\n",
    "A. There are many advantages on using functions.\n",
    "\n",
    "        1. Reusability: Function is defined to prform a specific task again and again. We can call it from anywhere in the program once we define it.\n",
    "        2. Redability: Breaking down the program into smaller functions increases redability and also easy to understand. It also reduces the klines of code."
   ]
  },
  {
   "cell_type": "markdown",
   "id": "150195b8",
   "metadata": {},
   "source": [
    "#### 2. When does the code in a function run: when it's specified or when it's called?\n",
    "\n",
    "A. The code in a function runs only when it's called not when it's specified.The statements within the function are not executed until you call the function by using its name followed by parentheses \"()\". "
   ]
  },
  {
   "cell_type": "markdown",
   "id": "8ff4f105",
   "metadata": {},
   "source": [
    "#### 3. What statement creates a function?\n",
    "\n",
    "A. 'def' is a keyword which is used to define a function. The function can be created as follows:\n",
    "\n",
    "           def function_name(parameters):\n",
    "               statements to be executed\n",
    "               return"
   ]
  },
  {
   "cell_type": "markdown",
   "id": "ce0e2898",
   "metadata": {},
   "source": [
    "#### 4. What is the difference between a function and a function call?\n",
    "\n",
    "A. Function is defined as block of code or set of statements that performs a specific task again and again when it is called or invoked where as function call is the statement that invokes or executes a function.\n",
    "\n",
    "    Function:\n",
    "    def greet(name):\n",
    "        print(\"Hi \"+name)\n",
    "    \n",
    "    Function call:\n",
    "    greet(\"Geetha\")"
   ]
  },
  {
   "cell_type": "markdown",
   "id": "012d9bbc",
   "metadata": {},
   "source": [
    "#### 5. How many global scopes are there in a Python program? How many local scopes?\n",
    "\n",
    "A. There is only one global scope and multiple local scopes\n",
    "\n",
    "        A function or a variable declared outside of any class or function is called global scope and it can be accessible anywhere in the program. There is only one global scope.\n",
    "\n",
    "        A local scope is defined when a variable is declared inside a function or loops and it can be accessible only in the functions or loops where it has been declared.It can't be accessible outside of the functions or loops."
   ]
  },
  {
   "cell_type": "markdown",
   "id": "12809e0f",
   "metadata": {},
   "source": [
    "#### 6. What happens to variables in a local scope when the function call returns?\n",
    "\n",
    "A. When a function call returns, the variables inside that function are no longer accessible and the memory allocated in the local scope is released. "
   ]
  },
  {
   "cell_type": "markdown",
   "id": "5858bccd",
   "metadata": {},
   "source": [
    "#### 7. What is the concept of a return value? Is it possible to have a return value in an expression?\n",
    "\n",
    "A. The concept of return value is that it allows function to produce a output or result which can be a variable or an expression. If the function doesn't have a return value, it returns none explicitly. Yes, It is possible to have a return value in an expression."
   ]
  },
  {
   "cell_type": "markdown",
   "id": "ee2c8f96",
   "metadata": {},
   "source": [
    "#### 8. If a function does not have a return statement, what is the return value of a call to that function?\n",
    "\n",
    "A. If the function doesn't have return value, it returns none explicitly.'None' is the return value of a call to that function."
   ]
  },
  {
   "cell_type": "markdown",
   "id": "fc79132d",
   "metadata": {},
   "source": [
    "#### 9. How do you make a function variable refer to the global variable?\n",
    "\n",
    "A. If you want to make a function variable refer to a global variable, you can use the global keyword to declare that variable as a global variable within the function."
   ]
  },
  {
   "cell_type": "markdown",
   "id": "b6e4cb69",
   "metadata": {},
   "source": [
    "#### 10. What is the data type of None?\n",
    "\n",
    "A. Data type of None is NoneType"
   ]
  },
  {
   "cell_type": "markdown",
   "id": "12d1f9b4",
   "metadata": {},
   "source": [
    "#### 11. What does the sentence import areallyourpetsnamederic do?\n",
    "\n",
    "A. If areallyourpetsnamederic is a user-defined module then it imports all the functions inside it. If not It will throw an \"ModuleNotFoundError\"."
   ]
  },
  {
   "cell_type": "markdown",
   "id": "67c19cff",
   "metadata": {},
   "source": [
    "#### 12. If you had a bacon() feature in a spam module, what would you call it after importing spam?\n",
    "\n",
    "A. After importing spam module, we can access bacon() feature from spam module by using dot notation. And the statement can be given by\n",
    "\n",
    "        import spam\n",
    "        spam.bacon()"
   ]
  },
  {
   "cell_type": "markdown",
   "id": "59957459",
   "metadata": {},
   "source": [
    "#### 13. What can you do to save a programme from crashing if it encounters an error?\n",
    "\n",
    "A. We can use exception handlings in order to prevent program from termination."
   ]
  },
  {
   "cell_type": "markdown",
   "id": "cea3e03a",
   "metadata": {},
   "source": [
    "#### 14. What is the purpose of the try clause? What is the purpose of the except clause?\n",
    "\n",
    "A. The purpose of try block where it contains a block of code that might have an exception is to catch the exception where as except block is used to handle the exception that is raised in try block"
   ]
  },
  {
   "cell_type": "code",
   "execution_count": null,
   "id": "e80cbe9b",
   "metadata": {},
   "outputs": [],
   "source": []
  }
 ],
 "metadata": {
  "kernelspec": {
   "display_name": "Python 3 (ipykernel)",
   "language": "python",
   "name": "python3"
  },
  "language_info": {
   "codemirror_mode": {
    "name": "ipython",
    "version": 3
   },
   "file_extension": ".py",
   "mimetype": "text/x-python",
   "name": "python",
   "nbconvert_exporter": "python",
   "pygments_lexer": "ipython3",
   "version": "3.9.12"
  }
 },
 "nbformat": 4,
 "nbformat_minor": 5
}
