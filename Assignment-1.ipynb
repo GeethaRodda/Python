{
 "cells": [
  {
   "cell_type": "markdown",
   "id": "76615d9f",
   "metadata": {},
   "source": [
    "# Assignment-1"
   ]
  },
  {
   "cell_type": "markdown",
   "id": "7dc99e97",
   "metadata": {},
   "source": [
    "#### 1. In the below elements which of them are values or an expression? eg:- values can be integer or string and expressions will be mathematical operators. *, 'hello', -87.8, -, /, +, 6\n",
    "\n",
    "A. Values are -87.8, 6 and Expressions are *, +, -, / \n"
   ]
  },
  {
   "cell_type": "markdown",
   "id": "40c155d1",
   "metadata": {},
   "source": [
    "#### 2. What is a difference between string and a variable?\n",
    "\n",
    "\n",
    "A. String can be a single character or a group of characters where as variables are used to store the value and also called identifiers."
   ]
  },
  {
   "cell_type": "markdown",
   "id": "5af0fdb9",
   "metadata": {},
   "source": [
    "#### 3. Describe three different data types.\n",
    "\n",
    "A.The different types of datatypes are String, Numeric, Mapping and Sequence.\n",
    "String is group of characters which is enclosed in between single quotes or double quotes.\n",
    "Numeric Data type includes int, float and complex.\n",
    "Sequence data type includes List, Sets and Tuple where as Mapping represents dict data type."
   ]
  },
  {
   "cell_type": "markdown",
   "id": "884949bc",
   "metadata": {},
   "source": [
    "#### 4. What is an expression made up of? What do all expressions do?\n",
    "\n",
    "A.An Expression is a combination of Mathematical operators, constants and variables. It is interpreted to produce some value."
   ]
  },
  {
   "cell_type": "markdown",
   "id": "17087c70",
   "metadata": {},
   "source": [
    "#### 5. This assignment statements, like spam = 10. What is the difference between an expression and a statement?\n",
    "\n",
    "A.An expression is a combination of values, variables and mathematical operators where as a statement is an instruction that can be executed by the interpreter. Python statements ends with token NewLine character(\\n)."
   ]
  },
  {
   "cell_type": "markdown",
   "id": "2361cc70",
   "metadata": {},
   "source": [
    "#### 6.  After running the following code, what does the variable bacon contain? \n",
    "#### bacon = 22 \n",
    "#### bacon + 1\n",
    "\n",
    "A.Bacon variable contains the value 22 after executing the code."
   ]
  },
  {
   "cell_type": "markdown",
   "id": "bc019ad0",
   "metadata": {},
   "source": [
    "#### 7. What should the values of the following two terms be?\n",
    "#### 'spam'+ 'spamspam'\n",
    "#### 'spam'* 3\n",
    "\n",
    "A. Both gives the same output as 'spamspamspam'"
   ]
  },
  {
   "cell_type": "markdown",
   "id": "0cb07be0",
   "metadata": {},
   "source": [
    "#### 8. Why is eggs a valid variable name while 100 is invalid?\n",
    "\n",
    "A.Variable name should start with either alphabet or _. It shouldn't start with digit. Hence eggs is valid and 100 is invalid variable."
   ]
  },
  {
   "cell_type": "markdown",
   "id": "bbad2d9a",
   "metadata": {},
   "source": [
    "#### 9. What three functions can be used to get the integer, floating-point number, or string version of a value?\n",
    "\n",
    "A. int(), float() and str() are the three functions can be used to get the integer, floating-point number and string respectively."
   ]
  },
  {
   "cell_type": "markdown",
   "id": "71a14aa1",
   "metadata": {},
   "source": [
    "#### 10. Why does this expression cause an error? How can you fix it?\n",
    "#### 'I have eaten' + 99 +' burritos.'\n",
    "\n",
    "A. String couldn't be concatenated with int. It can be fixed by converting int to string\n",
    "'I have eaten '+'99'+' burritos.'"
   ]
  },
  {
   "cell_type": "code",
   "execution_count": null,
   "id": "8e391fe1",
   "metadata": {},
   "outputs": [],
   "source": []
  }
 ],
 "metadata": {
  "kernelspec": {
   "display_name": "Python 3 (ipykernel)",
   "language": "python",
   "name": "python3"
  },
  "language_info": {
   "codemirror_mode": {
    "name": "ipython",
    "version": 3
   },
   "file_extension": ".py",
   "mimetype": "text/x-python",
   "name": "python",
   "nbconvert_exporter": "python",
   "pygments_lexer": "ipython3",
   "version": "3.9.12"
  }
 },
 "nbformat": 4,
 "nbformat_minor": 5
}
