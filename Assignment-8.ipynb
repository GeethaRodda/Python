{
 "cells": [
  {
   "cell_type": "markdown",
   "id": "b12c230f",
   "metadata": {},
   "source": [
    "# Assignment-8"
   ]
  },
  {
   "cell_type": "markdown",
   "id": "ef2b404c",
   "metadata": {},
   "source": [
    "#### 1. In Python, what is the difference between a built-in function and a user-defined function? Provide an example of each.\n",
    "\n",
    "A. Functions that are defined and readily used are known as built-in functions whereas functions that are defined by the user is called user-defined functions."
   ]
  },
  {
   "cell_type": "code",
   "execution_count": 3,
   "id": "e8fe9573",
   "metadata": {},
   "outputs": [
    {
     "name": "stdout",
     "output_type": "stream",
     "text": [
      "5.0\n"
     ]
    },
    {
     "data": {
      "text/plain": [
       "9"
      ]
     },
     "execution_count": 3,
     "metadata": {},
     "output_type": "execute_result"
    }
   ],
   "source": [
    "#built-in Function\n",
    "\n",
    "import math\n",
    "print(math.sqrt(25))\n",
    "\n",
    "#user-defined functions\n",
    "\n",
    "def squ_fun(n):\n",
    "    return n*n\n",
    "\n",
    "squ_fun(3)"
   ]
  },
  {
   "cell_type": "markdown",
   "id": "b1b4edc5",
   "metadata": {},
   "source": [
    "#### 2.How can you pass arguments to a function in Python? Explain the difference between positional arguments and keyword arguments.\n",
    "\n",
    "A. Information can be passed into functions as arguments.Arguments can be defined as many as we want and are separated by comma in a parentheses after the function name and it can be a variable of different datatypes, objects and even functions.\n",
    "\n",
    "    Positional Argument:\n",
    "        During function call values passed through arguments should be in the order as same as in the function definition.\n",
    "    Keyword Argument:\n",
    "        If we have many parameters in a function and want to specify only- some of them then you can give the values for such parameters by naming them irrespective of their order."
   ]
  },
  {
   "cell_type": "markdown",
   "id": "7a49534c",
   "metadata": {},
   "source": [
    "#### 3. What is the purpose of the return statement in a function? Can a function have multiple return statements? Explain with an example.\n",
    "\n",
    "A. The return statement is used to return the output from a function.It stops the execution of the function whenever it is encountered within the function.\n",
    "\n",
    "    Yes, a function can have multiple return statements.The execution of a function can branch to different parts depending on certain conditions, and each branch may have its own return statements. When a return statement is encountered, it returns a specified output by terminating the function."
   ]
  },
  {
   "cell_type": "code",
   "execution_count": 13,
   "id": "f80ea1d4",
   "metadata": {},
   "outputs": [
    {
     "data": {
      "text/plain": [
       "'B'"
      ]
     },
     "execution_count": 13,
     "metadata": {},
     "output_type": "execute_result"
    }
   ],
   "source": [
    "def grade(marks):\n",
    "    if marks>=90 and marks<=100:\n",
    "        return 'A'\n",
    "    elif marks>=75 and marks<=90:\n",
    "        return 'B'\n",
    "    elif marks>=50 and marks<=75:\n",
    "        return 'C'\n",
    "    elif marks>=35 and marks<=50:\n",
    "        return 'D'\n",
    "    else:\n",
    "        return 'Fail'\n",
    "    \n",
    "grade(76)"
   ]
  },
  {
   "cell_type": "markdown",
   "id": "cd2a2864",
   "metadata": {},
   "source": [
    "From the above example, grade is a function that takes marks as an argument and depending on the condition it returns the corresponding grade."
   ]
  },
  {
   "cell_type": "markdown",
   "id": "6267d902",
   "metadata": {},
   "source": [
    "#### 4.What are lambda functions in Python? How are they different from regular functions? Provide an example where a lambda function can be useful.\n",
    "\n",
    "A. Lambda functions are anonymous functions that are defined using lambda keyword.They don't require formal function definition like regular functions using def keyword.These functions are used for simple operations that can be expressed in a single line of code.\n",
    "\n",
    "    Syntax: lambda arguments: Expression"
   ]
  },
  {
   "cell_type": "code",
   "execution_count": 12,
   "id": "d1fa4c28",
   "metadata": {},
   "outputs": [
    {
     "data": {
      "text/plain": [
       "25"
      ]
     },
     "execution_count": 12,
     "metadata": {},
     "output_type": "execute_result"
    }
   ],
   "source": [
    "square=lambda x:x**2\n",
    "square(5)"
   ]
  },
  {
   "cell_type": "markdown",
   "id": "561fa1d9",
   "metadata": {},
   "source": [
    "In the above example, square is the name of a function that takes an argument x which returns the square of x."
   ]
  },
  {
   "cell_type": "markdown",
   "id": "8e754bba",
   "metadata": {},
   "source": [
    "#### 5. How does the concept of \"scope\" apply to functions in Python? Explain the difference between local scope and global scope.\n",
    "\n",
    "A.The concept of scope applies to functions determines the visibility and accesibility of variables in python.The scope of variable is determined by where it is defined and can be categorized into three types.Local scope, enclosing scope and global scope.\n",
    "\n",
    "    Local scope:Variables defined inside a function have a local scope.Local variables are accessible only in which they are defined and it can't be accessible outside the function.\n",
    "    Global scope:variables defined outside function or at top of the module have global scope.They can be accessible anywhere in the program and even inside the function."
   ]
  },
  {
   "cell_type": "markdown",
   "id": "12cbe032",
   "metadata": {},
   "source": [
    "#### 6.How can you use the \"return\" statement in a Python function to return multiple values?\n",
    "\n",
    "A. We use data structures like list, tuple and dictionary to return multiple values in a function."
   ]
  },
  {
   "cell_type": "code",
   "execution_count": 11,
   "id": "8f0513af",
   "metadata": {},
   "outputs": [
    {
     "data": {
      "text/plain": [
       "('Geetha', 23)"
      ]
     },
     "execution_count": 11,
     "metadata": {},
     "output_type": "execute_result"
    }
   ],
   "source": [
    "def multiple_return_values():\n",
    "    name='Geetha'\n",
    "    age=23\n",
    "    return (name,age)\n",
    "\n",
    "multiple_return_values()"
   ]
  },
  {
   "cell_type": "markdown",
   "id": "6818bdd1",
   "metadata": {},
   "source": [
    "#### 7. What is the difference between the \"pass by value\" and \"pass by reference\" concepts when it comes to function arguments in Python?\n",
    "A. Python uses a combination of pass by value and pass by reference behaviour depending upon the type of object being passed.Immutable objects are passed by value like behaviour while mutable objects are passed by reference like behaviour."
   ]
  },
  {
   "cell_type": "markdown",
   "id": "24430d94",
   "metadata": {},
   "source": [
    "####  8. Create a function that can intake integer or decimal value and do following operations:\n",
    "#### a. Logarithmic function (log x)\n",
    "#### b. Exponential function (exp(x))\n",
    "#### c. Power function with base 2 (2 power x)\n",
    "#### d. Square root\n",
    "\n"
   ]
  },
  {
   "cell_type": "code",
   "execution_count": 10,
   "id": "135d171f",
   "metadata": {},
   "outputs": [
    {
     "data": {
      "text/plain": [
       "{'logithmic': 2.066862759472976,\n",
       " 'Exponential': 2697.28232826851,\n",
       " 'power_function': 238.85644583342275,\n",
       " 'square_root': 2.8106938645110393}"
      ]
     },
     "execution_count": 10,
     "metadata": {},
     "output_type": "execute_result"
    }
   ],
   "source": [
    "import math\n",
    "def mul_operations(num):\n",
    "    result={\n",
    "    'logithmic':math.log(num),\n",
    "    'Exponential':math.exp(num),\n",
    "    'power_function':math.pow(2,num),\n",
    "    'square_root':math.sqrt(num)\n",
    "    }\n",
    "    return result\n",
    "\n",
    "mul_operations(7.9)"
   ]
  },
  {
   "cell_type": "markdown",
   "id": "4d482836",
   "metadata": {},
   "source": [
    "#### 9. Create a function that takes a full name as an argument and returns first name and last name.\n"
   ]
  },
  {
   "cell_type": "code",
   "execution_count": 14,
   "id": "3b2adfcf",
   "metadata": {},
   "outputs": [
    {
     "name": "stdout",
     "output_type": "stream",
     "text": [
      "First Name : Geetha\n",
      "Last Name : Rodda\n"
     ]
    }
   ],
   "source": [
    "def extract_name(f_name):\n",
    "    fullname=f_name.split(\" \")\n",
    "    return(fullname[0],fullname[1])\n",
    "\n",
    "fname,lname=extract_name(\"Geetha Rodda\")\n",
    "print(\"First Name :\",fname)\n",
    "print(\"Last Name :\",lname)"
   ]
  },
  {
   "cell_type": "code",
   "execution_count": null,
   "id": "5ef60d4e",
   "metadata": {},
   "outputs": [],
   "source": []
  }
 ],
 "metadata": {
  "kernelspec": {
   "display_name": "Python 3 (ipykernel)",
   "language": "python",
   "name": "python3"
  },
  "language_info": {
   "codemirror_mode": {
    "name": "ipython",
    "version": 3
   },
   "file_extension": ".py",
   "mimetype": "text/x-python",
   "name": "python",
   "nbconvert_exporter": "python",
   "pygments_lexer": "ipython3",
   "version": "3.9.12"
  }
 },
 "nbformat": 4,
 "nbformat_minor": 5
}
