{
 "cells": [
  {
   "cell_type": "markdown",
   "id": "6cf1a557",
   "metadata": {},
   "source": [
    "# Assignment-5"
   ]
  },
  {
   "cell_type": "markdown",
   "id": "0f926fff",
   "metadata": {},
   "source": [
    "#### 1. What does an empty dictionary's code look like?\n",
    "\n",
    "A. Dictonary is represented by {} where it contains a key-value pair."
   ]
  },
  {
   "cell_type": "markdown",
   "id": "2b6c90ea",
   "metadata": {},
   "source": [
    "#### 2. What is the value of a dictionary value with the key 'foo' and the value 42?\n",
    "\n",
    "A. The value of a dictionary value with key 'foo' and the value 42 is 42.\n"
   ]
  },
  {
   "cell_type": "code",
   "execution_count": 1,
   "id": "567ebac8",
   "metadata": {},
   "outputs": [
    {
     "data": {
      "text/plain": [
       "42"
      ]
     },
     "execution_count": 1,
     "metadata": {},
     "output_type": "execute_result"
    }
   ],
   "source": [
    "d={'foo':42}\n",
    "d['foo']"
   ]
  },
  {
   "cell_type": "markdown",
   "id": "70dcb526",
   "metadata": {},
   "source": [
    "#### 3. What is the most significant distinction between a dictionary and a list?\n",
    "\n",
    "A. List is represented in square bracket[] and it is an ordered collection of data whereas dictionary is represented in {} curly braces and it is an unordered collection of key-value pair.List values can be accessed using index positions. Dictionary values can be accessed using keys. "
   ]
  },
  {
   "cell_type": "markdown",
   "id": "b3a3896f",
   "metadata": {},
   "source": [
    "#### 4. What happens if you try to access spam['foo'] if spam is {'bar': 100}?\n",
    "\n",
    "A. Spam doesn't contain 'foo' as a key. If we try to access spam['foo'], KeyError will be raised."
   ]
  },
  {
   "cell_type": "markdown",
   "id": "38724477",
   "metadata": {},
   "source": [
    "#### 5. If a dictionary is stored in spam, what is the difference between the expressions 'cat' in spam and 'cat' in spam.keys()?\n",
    "\n",
    "A. Both gives the same result. 'cat' in spam is more efficient than 'cat' in spam.keys(). 'cat' in spam directly performs a key lookup within the dictionary. On the other hand, 'cat' in spam.keys() involves creating an intermediate list of keys."
   ]
  },
  {
   "cell_type": "markdown",
   "id": "6206b45e",
   "metadata": {},
   "source": [
    "#### 6. If a dictionary is stored in spam, what is the difference between the expressions 'cat' in spam and 'cat' in spam.values()?\n",
    "\n",
    "A. Both gives different results. 'cat' in spam performs a key loopup within the dictionary whereas 'cat' in spam.values() checks whether the value 'cat' exists in dictionary or not. It searches for the value 'cat' among the values in the dictionary. "
   ]
  },
  {
   "cell_type": "markdown",
   "id": "2576c0d1",
   "metadata": {},
   "source": [
    "#### 7. What is a shortcut for the following code?\n",
    "##### if 'color' not in spam:\n",
    "##### spam['color'] = 'black'\n",
    "\n",
    "A. A shortcut for the above code can be achieved by using setdefault() method. setdefault() is a method checks whether the given key is present. If present it does nothing. Otherwise it sets the value for that key."
   ]
  },
  {
   "cell_type": "code",
   "execution_count": 10,
   "id": "3e255527",
   "metadata": {},
   "outputs": [
    {
     "data": {
      "text/plain": [
       "{'cat': 1, 'color': 'black'}"
      ]
     },
     "execution_count": 10,
     "metadata": {},
     "output_type": "execute_result"
    }
   ],
   "source": [
    "spam.setdefault('color','black')\n",
    "spam"
   ]
  },
  {
   "cell_type": "code",
   "execution_count": 12,
   "id": "1fa36aa7",
   "metadata": {},
   "outputs": [
    {
     "data": {
      "text/plain": [
       "{'cat': 1, 'color': 'black'}"
      ]
     },
     "execution_count": 12,
     "metadata": {},
     "output_type": "execute_result"
    }
   ],
   "source": [
    "spam.setdefault('color','red')\n",
    "spam"
   ]
  },
  {
   "cell_type": "markdown",
   "id": "2a7c2495",
   "metadata": {},
   "source": [
    "#### 8. How do you \"pretty print\" dictionary values using which module and function?\n",
    "\n",
    "A. The pprint() function from the pprint module can be used to print dictionary values."
   ]
  },
  {
   "cell_type": "code",
   "execution_count": 13,
   "id": "250e6aad",
   "metadata": {},
   "outputs": [
    {
     "name": "stdout",
     "output_type": "stream",
     "text": [
      "{'cat': 1, 'color': 'black'}\n"
     ]
    }
   ],
   "source": [
    "import pprint\n",
    "pprint.pprint(spam)"
   ]
  },
  {
   "cell_type": "code",
   "execution_count": null,
   "id": "cba9e309",
   "metadata": {},
   "outputs": [],
   "source": []
  }
 ],
 "metadata": {
  "kernelspec": {
   "display_name": "Python 3 (ipykernel)",
   "language": "python",
   "name": "python3"
  },
  "language_info": {
   "codemirror_mode": {
    "name": "ipython",
    "version": 3
   },
   "file_extension": ".py",
   "mimetype": "text/x-python",
   "name": "python",
   "nbconvert_exporter": "python",
   "pygments_lexer": "ipython3",
   "version": "3.9.12"
  }
 },
 "nbformat": 4,
 "nbformat_minor": 5
}
