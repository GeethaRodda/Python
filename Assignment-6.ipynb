{
 "cells": [
  {
   "cell_type": "markdown",
   "id": "51ccdef8",
   "metadata": {},
   "source": [
    "# Assignment-6"
   ]
  },
  {
   "cell_type": "markdown",
   "id": "a409cd75",
   "metadata": {},
   "source": [
    "#### 1. What are keywords in python? Using the keyword library, print all the python keywords.\n",
    "\n",
    "A. Keywords are reserved words in python that are predefined for some purposes and couldn't be used as a variable."
   ]
  },
  {
   "cell_type": "code",
   "execution_count": 9,
   "id": "7da5d24f",
   "metadata": {},
   "outputs": [
    {
     "name": "stdout",
     "output_type": "stream",
     "text": [
      "['False', 'None', 'True', '__peg_parser__', 'and', 'as', 'assert', 'async', 'await', 'break', 'class', 'continue', 'def', 'del', 'elif', 'else', 'except', 'finally', 'for', 'from', 'global', 'if', 'import', 'in', 'is', 'lambda', 'nonlocal', 'not', 'or', 'pass', 'raise', 'return', 'try', 'while', 'with', 'yield'] "
     ]
    }
   ],
   "source": [
    "import keyword\n",
    "print((keyword.kwlist),end=\" \")"
   ]
  },
  {
   "cell_type": "markdown",
   "id": "e461ee18",
   "metadata": {},
   "source": [
    "#### 2. What are the rules to create variables in python?\n",
    "\n",
    "A.\n",
    "\n",
    "    1. A Variable should start with a character or underscore.\n",
    "    2. It shouldn't contain any special characters such as @,# etc\n",
    "    3. It shouldn't start with a digit.\n",
    "    4. A variable should not be a keyword.\n",
    "    5. Variables are case-sensitive and don't have a limited length.\n",
    "    6. It can be a combination of numbers and digits."
   ]
  },
  {
   "cell_type": "markdown",
   "id": "9ea9c4f1",
   "metadata": {},
   "source": [
    "#### 3. What are the standards and conventions followed for the nomenclature of variables in python to improve code readability and maintainability?\n",
    "\n",
    "\n",
    "A. \n",
    "\n",
    "    1. Variable name should be meaningful.\n",
    "    2. It is better to follow snake_case convention like 'user_name', 'mail_id'...so on\n",
    "    3. Maintaining consistent naming convention throughout the code will be a best practice.\n",
    "    4. Should avoid using reserved words as variable.\n",
    "    5. Ensuring that our variables should represent the data they hold to avoid ambiguity.\n",
    "    "
   ]
  },
  {
   "cell_type": "markdown",
   "id": "6aaf16db",
   "metadata": {},
   "source": [
    "#### 4. What will happen if a keyword is used as a variable name?\n",
    "\n",
    "A. If a keyword is used as a keyword, it will throw a 'SyntaxError' since those are reserved words for some purposes in python and can't be used as a variable."
   ]
  },
  {
   "cell_type": "markdown",
   "id": "7bacf314",
   "metadata": {},
   "source": [
    "#### 5. For what purpose def keyword is used?\n",
    "\n",
    "A. def is a keyword used to define a function which contains a block of code which is used again and again whenever it is called."
   ]
  },
  {
   "cell_type": "markdown",
   "id": "68c22ddd",
   "metadata": {},
   "source": [
    "#### 6. What is the operation of this special character ‘\\’?\n",
    "\n",
    "A. The special character '\\\\' is known as backslash which is a escape sequence character which escape sequences and also used to create special characters."
   ]
  },
  {
   "cell_type": "markdown",
   "id": "23bcd00b",
   "metadata": {},
   "source": [
    "#### 7. Give an example of the following conditions:\n",
    "##### (i) Homogeneous list\n",
    "##### (ii) Heterogeneous set\n",
    "##### (iii) Homogeneous tuple\n",
    "\n",
    "A.\n",
    "\n",
    "    Homogeneous list:\n",
    "    It is a list which contains all the elements of same data type enclosed within square bracket[].\n",
    "        Example: homo_list=[1,46,87,90,32]\n",
    "        It contains elements which is of same datatype.\n",
    "        \n",
    "    Heterogeneous set:\n",
    "    It is a set contains elements of different data types enclosed within curly braces{}.\n",
    "        Example:hetero_set={'Hello',53,23.7,[37,87]} \n",
    "        It contains integer, float, string and list as elements.\n",
    "        \n",
    "    Homogeneous tuple: \n",
    "    It is a tuple which contains elements of same datatype enclosed within parentheses().\n",
    "        Example:homo_tuple=(3.9,65.8,87.0,15.6)\n",
    "        It contains only float values which is of same datatype. "
   ]
  },
  {
   "cell_type": "markdown",
   "id": "131295ae",
   "metadata": {},
   "source": [
    "#### 8. Explain the mutable and immutable data types with proper explanation & examples.\n",
    "\n",
    "A.\n",
    "\n",
    "    Mutable datatypes: \n",
    "    Mutable datatypes are those which can be modified, inserted or deleted after they are created. It means we can change the state refering to the same object. \n",
    "    Examples: List and dictionary\n",
    "    \n",
    "    List: my_list=[1,2,7,9]\n",
    "            my_list.append(5)\n",
    "            In the above example, my_list is a list which can be modified i.e we are appending a integer 7 to the same list without changing its object.           \n",
    "     \n",
    "     Dictionary: dic={'name':'Revanth','age':26}\n",
    "                 dic['age']=34\n",
    "                 In the above example, dic is a dictionary which contains two keys and corresponding values, we can change a value as shown above.\n",
    "    \n",
    "    \n",
    "     Immutable datatypes:\n",
    "     Immutable datatypes are those ehich can't be modified once it's created.It means we can't change the state but we can change the value by performing some operations.\n",
    "     Examples: Integer, tuple\n",
    "     \n",
    "     Integer: x=5\n",
    "              x+44\n",
    "              In the above example, we can modify the value by performing the values but we couldn't change the original state or value.\n",
    "          \n",
    "     Tuple: t=(1,5,3,9)\n",
    "            t*2\n",
    "            In the above example, we can modify the tuple by performing some operations on it but we can't change the original value or state.\n",
    "            "
   ]
  },
  {
   "cell_type": "markdown",
   "id": "01261d38",
   "metadata": {},
   "source": [
    "#### 9. Write a code to create the given structure using only for loop.\n",
    "        *\n",
    "       ***\n",
    "      *****\n",
    "     *******\n",
    "    *********"
   ]
  },
  {
   "cell_type": "code",
   "execution_count": 34,
   "id": "e4a7d036",
   "metadata": {},
   "outputs": [
    {
     "name": "stdout",
     "output_type": "stream",
     "text": [
      "    *\n",
      "   ***\n",
      "  *****\n",
      " *******\n",
      "*********\n"
     ]
    }
   ],
   "source": [
    "for i in range(5):\n",
    "    for j in range(5 - i - 1):\n",
    "        print(\" \", end=\"\")\n",
    "    for j in range(2 * i + 1):\n",
    "        print(\"*\", end=\"\")\n",
    "    print()"
   ]
  },
  {
   "cell_type": "markdown",
   "id": "396cb356",
   "metadata": {},
   "source": [
    "#### 10. Write a code to create the given structure using while loop.\n",
    "    \n",
    "    |||||||||\n",
    "     |||||||\n",
    "      |||||\n",
    "       |||\n",
    "        |"
   ]
  },
  {
   "cell_type": "code",
   "execution_count": 8,
   "id": "f026508c",
   "metadata": {},
   "outputs": [
    {
     "name": "stdout",
     "output_type": "stream",
     "text": [
      "|||||||||\n",
      " |||||||\n",
      "  |||||\n",
      "   |||\n",
      "    |\n"
     ]
    }
   ],
   "source": [
    "rows = 5\n",
    "spaces = 0\n",
    "stars = rows * 2-1\n",
    "\n",
    "while stars >= 1:\n",
    "    # Print spaces\n",
    "    for i in range(spaces):\n",
    "        print(\" \", end=\"\")\n",
    "    # Print vertical bars\n",
    "    for i in range(stars):\n",
    "        print(\"|\", end=\"\")\n",
    "    print()\n",
    "\n",
    "    spaces += 1\n",
    "    stars -= 2\n"
   ]
  },
  {
   "cell_type": "code",
   "execution_count": null,
   "id": "6a241838",
   "metadata": {},
   "outputs": [],
   "source": []
  }
 ],
 "metadata": {
  "kernelspec": {
   "display_name": "Python 3 (ipykernel)",
   "language": "python",
   "name": "python3"
  },
  "language_info": {
   "codemirror_mode": {
    "name": "ipython",
    "version": 3
   },
   "file_extension": ".py",
   "mimetype": "text/x-python",
   "name": "python",
   "nbconvert_exporter": "python",
   "pygments_lexer": "ipython3",
   "version": "3.9.12"
  }
 },
 "nbformat": 4,
 "nbformat_minor": 5
}
