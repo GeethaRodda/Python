{
 "cells": [
  {
   "cell_type": "markdown",
   "id": "e7ead0ee",
   "metadata": {},
   "source": [
    "# Assignment-5"
   ]
  },
  {
   "cell_type": "markdown",
   "id": "f4472484",
   "metadata": {},
   "source": [
    "#### 1. What exactly is []?\n",
    "\n",
    "A. It represents an empty list."
   ]
  },
  {
   "cell_type": "markdown",
   "id": "9a698fb5",
   "metadata": {},
   "source": [
    "#### 2. In a list of values stored in a variable called spam, how would you assign the value 'hello' as the third value? (Assume [2, 4, 6, 8, 10] are in spam.)"
   ]
  },
  {
   "cell_type": "code",
   "execution_count": 2,
   "id": "27e49508",
   "metadata": {},
   "outputs": [
    {
     "data": {
      "text/plain": [
       "[2, 4, 'Hello', 8, 10]"
      ]
     },
     "execution_count": 2,
     "metadata": {},
     "output_type": "execute_result"
    }
   ],
   "source": [
    "spam=[2,4,6,8,10]\n",
    "spam[2]='Hello'\n",
    "spam"
   ]
  },
  {
   "cell_type": "markdown",
   "id": "c7d0c77f",
   "metadata": {},
   "source": [
    "#### 3. What is the value of spam[int(int('3' * 2) / 11)]?"
   ]
  },
  {
   "cell_type": "code",
   "execution_count": 3,
   "id": "7e043f80",
   "metadata": {},
   "outputs": [
    {
     "data": {
      "text/plain": [
       "'d'"
      ]
     },
     "execution_count": 3,
     "metadata": {},
     "output_type": "execute_result"
    }
   ],
   "source": [
    "spam=['a','b','c','d']\n",
    "spam[int(int('3'*2)/11)]"
   ]
  },
  {
   "cell_type": "markdown",
   "id": "9bf998d1",
   "metadata": {},
   "source": [
    "#### 4. What is the value of spam[-1]?"
   ]
  },
  {
   "cell_type": "code",
   "execution_count": 4,
   "id": "9990119d",
   "metadata": {},
   "outputs": [
    {
     "data": {
      "text/plain": [
       "'d'"
      ]
     },
     "execution_count": 4,
     "metadata": {},
     "output_type": "execute_result"
    }
   ],
   "source": [
    "spam[-1]"
   ]
  },
  {
   "cell_type": "markdown",
   "id": "674fb565",
   "metadata": {},
   "source": [
    "#### 5. What is the value of spam[:2]?"
   ]
  },
  {
   "cell_type": "code",
   "execution_count": 5,
   "id": "d76f0ada",
   "metadata": {},
   "outputs": [
    {
     "data": {
      "text/plain": [
       "['a', 'b']"
      ]
     },
     "execution_count": 5,
     "metadata": {},
     "output_type": "execute_result"
    }
   ],
   "source": [
    "spam[:2]"
   ]
  },
  {
   "cell_type": "code",
   "execution_count": 6,
   "id": "0b51d060",
   "metadata": {},
   "outputs": [],
   "source": [
    "bacon=[3.14,'cat',11,'cat',2]"
   ]
  },
  {
   "cell_type": "markdown",
   "id": "52bd01c1",
   "metadata": {},
   "source": [
    "#### 6. What is the value of bacon.index('cat')?"
   ]
  },
  {
   "cell_type": "code",
   "execution_count": 7,
   "id": "c0c393fd",
   "metadata": {},
   "outputs": [
    {
     "data": {
      "text/plain": [
       "1"
      ]
     },
     "execution_count": 7,
     "metadata": {},
     "output_type": "execute_result"
    }
   ],
   "source": [
    "bacon.index('cat')"
   ]
  },
  {
   "cell_type": "markdown",
   "id": "cffc8fc2",
   "metadata": {},
   "source": [
    "#### 7. How does bacon.append(99) change the look of the list value in bacon?\n",
    "\n",
    "A. It appends at the end of the list."
   ]
  },
  {
   "cell_type": "code",
   "execution_count": 8,
   "id": "3d81c08a",
   "metadata": {},
   "outputs": [
    {
     "data": {
      "text/plain": [
       "[3.14, 'cat', 11, 'cat', 2, 99]"
      ]
     },
     "execution_count": 8,
     "metadata": {},
     "output_type": "execute_result"
    }
   ],
   "source": [
    "bacon.append(99)\n",
    "bacon"
   ]
  },
  {
   "cell_type": "markdown",
   "id": "7dc4d233",
   "metadata": {},
   "source": [
    "#### 8. How does bacon.remove('cat') change the look of the list in bacon?\n",
    "\n",
    "A. it removes the cat which appears first in the list."
   ]
  },
  {
   "cell_type": "code",
   "execution_count": 10,
   "id": "e9a24fb0",
   "metadata": {},
   "outputs": [
    {
     "data": {
      "text/plain": [
       "[3.14, 11, 'cat', 2, 99]"
      ]
     },
     "execution_count": 10,
     "metadata": {},
     "output_type": "execute_result"
    }
   ],
   "source": [
    "bacon.remove('cat')\n",
    "bacon"
   ]
  },
  {
   "cell_type": "markdown",
   "id": "d66a1a7a",
   "metadata": {},
   "source": [
    "#### 9. What are the list concatenation and list replication operators?\n",
    "\n",
    "A.\n",
    "\n",
    "    Concatenation Operator:\n",
    "    It combines two or more lists into single list. It creats new line where the original lists remain unchanged.It is denoted as '+'.\n",
    "    Replication Operator:\n",
    "    It creats new list that contains the multiple copies of original list repeated as mentioned specific number of times. It is denoted as '*'."
   ]
  },
  {
   "cell_type": "code",
   "execution_count": 14,
   "id": "bc3d14e1",
   "metadata": {},
   "outputs": [
    {
     "name": "stdout",
     "output_type": "stream",
     "text": [
      "[1, 2, 3, 1, 2, 3, 1, 2, 3]\n"
     ]
    },
    {
     "data": {
      "text/plain": [
       "[1, 2, 3, 4, 5, 6]"
      ]
     },
     "execution_count": 14,
     "metadata": {},
     "output_type": "execute_result"
    }
   ],
   "source": [
    "l1=[1,2,3]\n",
    "l2=[4,5,6]\n",
    "print(l1*3) # Concatenation\n",
    "l1+l2       # Replication"
   ]
  },
  {
   "cell_type": "markdown",
   "id": "139aa3ac",
   "metadata": {},
   "source": [
    "#### 10. What is difference between the list methods append() and insert()?\n",
    "\n",
    "A. The methods append() and insert() are used to add the elements to the list. But they differ in how they add the elements.\n",
    "\n",
    "    append():\n",
    "    It adds the element at the end of the list. It takes a single argument which is to be added.\n",
    "    insert():\n",
    "    It adds the element in the specified index position.It takes two arguments one is the element to be added and  other is the index position."
   ]
  },
  {
   "cell_type": "markdown",
   "id": "0b9eec13",
   "metadata": {},
   "source": [
    "#### 11. What are the two methods for removing items from a list?\n",
    "\n",
    "A. The two methods for removing items from a list are remove() and pop()\n",
    "\n",
    "    remove():\n",
    "    It removes the specified element from the list. The element which is to be removed is to be specified as an argument.\n",
    "    pop():\n",
    "    It removes the specified index positioned element from the list. It removes the last element from the list if no argument is provided. "
   ]
  },
  {
   "cell_type": "code",
   "execution_count": 22,
   "id": "46750262",
   "metadata": {},
   "outputs": [
    {
     "name": "stdout",
     "output_type": "stream",
     "text": [
      "[1, 3, 4, 5, 6]\n",
      "[1, 3, 4, 5]\n",
      "[1, 3, 5]\n"
     ]
    }
   ],
   "source": [
    "l=[1,2,3,4,5,6]\n",
    "l.remove(2)\n",
    "print(l)\n",
    "l.pop()\n",
    "print(l)\n",
    "l.pop(2)\n",
    "print(l)"
   ]
  },
  {
   "cell_type": "markdown",
   "id": "3085015b",
   "metadata": {},
   "source": [
    "#### 12. Describe how list values and string values are identical.\n",
    "\n",
    "A. \n",
    "\n",
    "    1. String is a sequence of characters that are enclosed in \" \" or ' ' where as list is a collection of heterogeneous elements that are enclosed in a [].\n",
    "    2. Slicing and Indexing can be done for both strings and lists.\n",
    "    3. Both can be iterated through loops.\n",
    "    "
   ]
  },
  {
   "cell_type": "markdown",
   "id": "51712a7a",
   "metadata": {},
   "source": [
    "#### 13. What's the difference between tuples and lists?\n",
    "\n",
    "A. \n",
    "\n",
    "    1. List is a collection of values that are enclosed in a square bracket [] where as tuple are defined using () parentheses.\n",
    "    2. Lists are mutable and tuples are immutable.\n",
    "    3. Tuples are more efficient than lists.\n",
    "    "
   ]
  },
  {
   "cell_type": "markdown",
   "id": "3301b246",
   "metadata": {},
   "source": [
    "#### 14. How do you type a tuple value that only contains the integer 42?\n",
    "\n",
    "A. Tuple with single character can be created as follows:"
   ]
  },
  {
   "cell_type": "code",
   "execution_count": 23,
   "id": "3109920c",
   "metadata": {},
   "outputs": [
    {
     "data": {
      "text/plain": [
       "tuple"
      ]
     },
     "execution_count": 23,
     "metadata": {},
     "output_type": "execute_result"
    }
   ],
   "source": [
    "t=(42,)\n",
    "type(t)"
   ]
  },
  {
   "cell_type": "markdown",
   "id": "1870c07a",
   "metadata": {},
   "source": [
    "#### 15. How do you get a list value's tuple form? How do you get a tuple's list form?\n",
    "\n",
    "A. tuple() is used to convert list to tuple and list() is used to convert tuple to list. It is as follows:"
   ]
  },
  {
   "cell_type": "code",
   "execution_count": 25,
   "id": "a653d7b2",
   "metadata": {},
   "outputs": [],
   "source": [
    "my_list=[12,'Krishna',99.9]\n",
    "my_tuple=(8,'Radhe',98.8)\n",
    "my_list=tuple(my_list)\n",
    "my_tuple=list(my_tuple)"
   ]
  },
  {
   "cell_type": "code",
   "execution_count": 27,
   "id": "73f4f7f2",
   "metadata": {},
   "outputs": [
    {
     "name": "stdout",
     "output_type": "stream",
     "text": [
      "<class 'list'>\n"
     ]
    },
    {
     "data": {
      "text/plain": [
       "tuple"
      ]
     },
     "execution_count": 27,
     "metadata": {},
     "output_type": "execute_result"
    }
   ],
   "source": [
    "print(type(my_tuple))\n",
    "type(my_list)\n"
   ]
  },
  {
   "cell_type": "markdown",
   "id": "87953dee",
   "metadata": {},
   "source": [
    "#### 16. Variables that \"contain\" list values are not necessarily lists themselves. Instead, what do they contain?"
   ]
  },
  {
   "cell_type": "markdown",
   "id": "621c8161",
   "metadata": {},
   "source": [
    "#### 17. How do you distinguish between copy.copy() and copy.deepcopy()?\n",
    "\n",
    "A. copy.copy() creates a shallow copy of an object where changes made will be reflected in both objects. copy.deepcopy() creates a deep copy of an object where as changes can't be reflected in the original object."
   ]
  },
  {
   "cell_type": "code",
   "execution_count": null,
   "id": "c9de2413",
   "metadata": {},
   "outputs": [],
   "source": []
  }
 ],
 "metadata": {
  "kernelspec": {
   "display_name": "Python 3 (ipykernel)",
   "language": "python",
   "name": "python3"
  },
  "language_info": {
   "codemirror_mode": {
    "name": "ipython",
    "version": 3
   },
   "file_extension": ".py",
   "mimetype": "text/x-python",
   "name": "python",
   "nbconvert_exporter": "python",
   "pygments_lexer": "ipython3",
   "version": "3.9.12"
  }
 },
 "nbformat": 4,
 "nbformat_minor": 5
}
