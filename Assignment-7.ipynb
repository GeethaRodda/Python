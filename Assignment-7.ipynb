{
 "cells": [
  {
   "cell_type": "markdown",
   "id": "447dd88e",
   "metadata": {},
   "source": [
    "# Assignment-7"
   ]
  },
  {
   "cell_type": "markdown",
   "id": "8c2e454a",
   "metadata": {},
   "source": [
    "#### 1. Create two int type variables, apply addition, subtraction, division and multiplications and store the results in variables. Then print the data in the following format by calling the variables:\n",
    "##### First variable is __ & second variable is __.\n",
    "##### Addition: __ + __ = __\n",
    "##### Subtraction: __ - __ = __\n",
    "##### Multiplication: __ * __ = __\n",
    "##### Division: __ / __ = __\n",
    "\n",
    "A."
   ]
  },
  {
   "cell_type": "code",
   "execution_count": 5,
   "id": "dcc757c3",
   "metadata": {},
   "outputs": [
    {
     "name": "stdout",
     "output_type": "stream",
     "text": [
      "34\n",
      "21\n",
      "Addition:  34 + 21 = 55 \n",
      "Substraction:  34 - 21 = 13 \n",
      "Multiplication:  34 x 21 = 714 \n",
      "Division:  34 / 21 = 1.619047619047619 \n"
     ]
    }
   ],
   "source": [
    "n1,n2=int(input()),int(input())\n",
    "print(\"Addition:  {} + {} = {} \".format(n1,n2,n1+n2))\n",
    "print(\"Substraction:  {} - {} = {} \".format(n1,n2,n1-n2))\n",
    "print(\"Multiplication:  {} x {} = {} \".format(n1,n2,n1*n2))\n",
    "print(\"Division:  {} / {} = {} \".format(n1,n2,n1/n2))"
   ]
  },
  {
   "cell_type": "markdown",
   "id": "800b22c6",
   "metadata": {},
   "source": [
    "#### 2. What is the difference between the following operators:\n",
    "#### (i) ‘/’ & ‘//’\n",
    "#### (ii) ‘**’ & ‘^’\n",
    "A.\n",
    "\n",
    "      Difference between '/' & '//': \n",
    "      '/' is a division operator which perform division between two operands and returns float value whereas '//' is a floor division operator which perform division and returns the integer quotient value.\n",
    "      \n",
    "      Difference between '**' & '^':\n",
    "      '**' is a exponential operator it raises left operand to the power of right operand whereas '^' is a bit-wise XOR operator which performs binary representation of the operands."
   ]
  },
  {
   "cell_type": "markdown",
   "id": "4adfa459",
   "metadata": {},
   "source": [
    "#### 3. List the logical operators.\n",
    "\n",
    "A. Logical operators are used to perform logical operations on boolean values or expressions.There are three operators.\n",
    "\n",
    "    1.AND: It returns 'True' if both operands are 'True' otherwise it returns 'False'.\n",
    "    2.OR: It returns 'True' if either of the operands is 'True'otherwise it returns 'False'.\n",
    "    3.NOT: It returns the value 'True' if the operand is 'False' and vice-versa."
   ]
  },
  {
   "cell_type": "markdown",
   "id": "3b17442c",
   "metadata": {},
   "source": [
    "#### 4. Explain right shift operator and left shift operator with examples.\n",
    "A.\n",
    "\n",
    "    Right shift operator:\n",
    "    The right shift operator shifts the bits of the operand to the right by the number of positions specified.\n",
    "    Examples:\n",
    "    15>>2 results the output as 3\n",
    "    32>>3 results the output as 4\n",
    "    \n",
    "    Left shift operator:\n",
    "    The left shift operator shifts the bits of the operand to the left by the number of positions specified.\n",
    "    Examples:\n",
    "    32<<3 results the output as 256\n",
    "    15<<2 results the output as 60"
   ]
  },
  {
   "cell_type": "code",
   "execution_count": 13,
   "id": "b1df56b1",
   "metadata": {},
   "outputs": [
    {
     "data": {
      "text/plain": [
       "60"
      ]
     },
     "execution_count": 13,
     "metadata": {},
     "output_type": "execute_result"
    }
   ],
   "source": [
    "15<<2"
   ]
  },
  {
   "cell_type": "markdown",
   "id": "1dfc3577",
   "metadata": {},
   "source": [
    "#### 5. Create a list containing int type data of length 15. Then write a code to check if 10 is present in the list or not.\n",
    "\n",
    "A."
   ]
  },
  {
   "cell_type": "code",
   "execution_count": 15,
   "id": "44360582",
   "metadata": {},
   "outputs": [
    {
     "name": "stdout",
     "output_type": "stream",
     "text": [
      "10 is present in the list\n"
     ]
    }
   ],
   "source": [
    "my_list=[9,12,10,67.4,78,'Hello',87.5,(7,5,8),34,[7,6],56,90,23.6,31,76]\n",
    "if 10 in my_list:\n",
    "    print(\"10 is present in the list\")\n",
    "else:\n",
    "    print(\"10 is not present in the list\")"
   ]
  },
  {
   "cell_type": "code",
   "execution_count": null,
   "id": "3ca46f94",
   "metadata": {},
   "outputs": [],
   "source": []
  }
 ],
 "metadata": {
  "kernelspec": {
   "display_name": "Python 3 (ipykernel)",
   "language": "python",
   "name": "python3"
  },
  "language_info": {
   "codemirror_mode": {
    "name": "ipython",
    "version": 3
   },
   "file_extension": ".py",
   "mimetype": "text/x-python",
   "name": "python",
   "nbconvert_exporter": "python",
   "pygments_lexer": "ipython3",
   "version": "3.9.12"
  }
 },
 "nbformat": 4,
 "nbformat_minor": 5
}
