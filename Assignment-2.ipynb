{
 "cells": [
  {
   "cell_type": "markdown",
   "id": "8665be11",
   "metadata": {},
   "source": [
    "# Assignment-2"
   ]
  },
  {
   "cell_type": "markdown",
   "id": "456c4db6",
   "metadata": {},
   "source": [
    "#### 1. What are the two values of the Boolean data type? How do you write them?\n",
    "\n",
    "A.The two values of Boolean data type are True and False.It is used to represent the truth values of the expressions. "
   ]
  },
  {
   "cell_type": "markdown",
   "id": "937db46f",
   "metadata": {},
   "source": [
    "#### 2. What are the three different types of Boolean operators?\n",
    "\n",
    "A. The three different types of boolean operators are AND, OR and NOT."
   ]
  },
  {
   "cell_type": "markdown",
   "id": "29ac7c6e",
   "metadata": {},
   "source": [
    "#### 3. Make a list of each Boolean operator's truth tables (i.e. every possible combination of Boolean values for the operator and what it evaluate ).\n",
    "\n",
    "    A.x,y-->inputs z-->Output\n",
    "        1--> True\n",
    "        0--> False\n",
    "\n",
    "    Truth Table of AND operator\n",
    "\n",
    "      x   y   z\n",
    "      \n",
    "      0   0   0\n",
    "      0   1   0\n",
    "      1   0   0\n",
    "      1   1   1\n",
    "      \n",
    "   Truth table of OR Operator\n",
    "   \n",
    "       x   y   z\n",
    "       \n",
    "       0   0   0\n",
    "       0   1   1\n",
    "       1   0   1\n",
    "       1   1   1\n",
    "       \n",
    "   Truth table of NOT Operator\n",
    "   \n",
    "       x   z\n",
    "       \n",
    "       0   1\n",
    "       1   0"
   ]
  },
  {
   "cell_type": "markdown",
   "id": "4d6b4ea5",
   "metadata": {},
   "source": [
    "#### 4. What are the values of the following expressions?\n",
    "##### (5 > 4) and (3 == 5)\n",
    "##### not (5 > 4)\n",
    "##### (5 > 4) or (3 == 5)\n",
    "##### not ((5 > 4) or (3 == 5))\n",
    "##### (True and True) and (True == False)\n",
    "##### (not False) or (not True)\n",
    "\n",
    "    A.False\n",
    "      False\n",
    "      True\n",
    "      False\n",
    "      False\n",
    "      True\n",
    "       "
   ]
  },
  {
   "cell_type": "markdown",
   "id": "88adae82",
   "metadata": {},
   "source": [
    "#### 5. What are the six comparison operators?\n",
    "\n",
    "A. The six comparison operators are\n",
    "       \n",
    "         ==     equal too\n",
    "         !=     not equal too\n",
    "         >      greater than\n",
    "         <      less than\n",
    "         >=     greater than or equal too\n",
    "         <=     less than or equal too\n",
    "         "
   ]
  },
  {
   "cell_type": "markdown",
   "id": "2dae9504",
   "metadata": {},
   "source": [
    "#### 6. How do you tell the difference between the equal to and assignment operators?Describe a condition and when you would use one.\n",
    "\n",
    "A. Assignment operator assigns a value to the variable where as equal to operator is used to check the equality of the values. In the below example, a is a variable which stores the value 10 and is stored using assignment operator where as in the second line equal to operator is used to check whether the values are equal or not."
   ]
  },
  {
   "cell_type": "code",
   "execution_count": 8,
   "id": "feac8597",
   "metadata": {},
   "outputs": [
    {
     "data": {
      "text/plain": [
       "True"
      ]
     },
     "execution_count": 8,
     "metadata": {},
     "output_type": "execute_result"
    }
   ],
   "source": [
    "a=10\n",
    "a==10"
   ]
  },
  {
   "cell_type": "markdown",
   "id": "0e848da7",
   "metadata": {},
   "source": [
    "#### 7. Identify the three blocks in this code:\n",
    "##### spam = 0\n",
    "##### if spam == 10:\n",
    "##### print('eggs')\n",
    "##### if spam > 5:\n",
    "##### print('bacon')\n",
    "##### else:\n",
    "##### print('ham'.)\n",
    "##### print('spam')\n",
    "##### print('spam')\n",
    "\n",
    "A. Based on the indentation, there are three blocks .\n",
    "                                                    \n",
    "    Block-1\n",
    "    if spam==10:\n",
    "        print('eggs')\n",
    "    \n",
    "    Block-2\n",
    "    if spam>5:\n",
    "        print('bacon')\n",
    "        \n",
    "    Block-3\n",
    "    else:\n",
    "        print('ham'.)\n",
    "        print('spam')\n",
    "        print('spam')\n",
    "    \n"
   ]
  },
  {
   "cell_type": "markdown",
   "id": "b8c05372",
   "metadata": {},
   "source": [
    "#### 8. Write code that prints Hello if 1 is stored in spam, prints Howdy if 2 is stored in spam, and prints Greetings! if anything else is stored in spam."
   ]
  },
  {
   "cell_type": "code",
   "execution_count": 11,
   "id": "37ffe930",
   "metadata": {},
   "outputs": [
    {
     "name": "stdout",
     "output_type": "stream",
     "text": [
      "Greetings!\n"
     ]
    }
   ],
   "source": [
    "spam=0\n",
    "if spam==1:\n",
    "    print(\"Hello\")\n",
    "elif spam==2:\n",
    "    print(\"Howdy\")\n",
    "else:\n",
    "    print(\"Greetings!\")"
   ]
  },
  {
   "cell_type": "markdown",
   "id": "2038d6f9",
   "metadata": {},
   "source": [
    "#### 9.If your programme is stuck in an endless loop, what keys you’ll press?\n",
    "\n",
    "A. ctrl+c is used to stop the execution "
   ]
  },
  {
   "cell_type": "markdown",
   "id": "fe6482b2",
   "metadata": {},
   "source": [
    "#### 10. How can you tell the difference between break and continue?\n",
    "\n",
    "A. In loops, Break terminates from the loop where as continue skips the remaining statements in the current iteration and proceed the next iteration.\n",
    "    If both are used outside loops, break terminates the program whereas continue skip the very next statement and executes remaining statements "
   ]
  },
  {
   "cell_type": "markdown",
   "id": "5146233d",
   "metadata": {},
   "source": [
    "#### 11. In a for loop, what is the difference between range(10), range(0, 10), and range(0, 10, 1)?\n",
    "\n",
    "A. All the three variations generate the same sequence of numbers from 0 to 9. The difference is in the range(10) 0 is not explicitly specified, in the range(0,10) both start point and end point are specified explicitly where the step value is 1 defaultly and in the range(1,10,1) here evrything is specified i.e start value, end value and step value."
   ]
  },
  {
   "cell_type": "markdown",
   "id": "a2c456f1",
   "metadata": {},
   "source": [
    "#### 12. Write a short program that prints the numbers 1 to 10 using a for loop. Then write an equivalent program that prints the numbers 1 to 10 using a while loop."
   ]
  },
  {
   "cell_type": "code",
   "execution_count": 1,
   "id": "ea017181",
   "metadata": {},
   "outputs": [
    {
     "name": "stdout",
     "output_type": "stream",
     "text": [
      "1 2 3 4 5 6 7 8 9 10 1 2 3 4 5 6 7 8 9 10 "
     ]
    }
   ],
   "source": [
    "for i in range(1,11):\n",
    "    print(i,end=\" \")\n",
    "\n",
    "j=1\n",
    "while(j<11):\n",
    "    print(j, end=\" \")\n",
    "    j+=1"
   ]
  },
  {
   "cell_type": "markdown",
   "id": "b26d0233",
   "metadata": {},
   "source": [
    "#### 13. If you had a function named bacon() inside a module named spam, how would you call it after importing spam?\n",
    "\n",
    "A. The two ways to import balcon function are\n",
    "\n",
    "    from spam import balcon\n",
    " \n",
    "    import spam\n",
    "    spam.balcon()"
   ]
  },
  {
   "cell_type": "code",
   "execution_count": null,
   "id": "612f497a",
   "metadata": {},
   "outputs": [],
   "source": []
  }
 ],
 "metadata": {
  "kernelspec": {
   "display_name": "Python 3 (ipykernel)",
   "language": "python",
   "name": "python3"
  },
  "language_info": {
   "codemirror_mode": {
    "name": "ipython",
    "version": 3
   },
   "file_extension": ".py",
   "mimetype": "text/x-python",
   "name": "python",
   "nbconvert_exporter": "python",
   "pygments_lexer": "ipython3",
   "version": "3.9.12"
  }
 },
 "nbformat": 4,
 "nbformat_minor": 5
}
